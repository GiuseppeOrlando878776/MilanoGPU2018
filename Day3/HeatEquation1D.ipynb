{
 "cells": [
  {
   "cell_type": "code",
   "execution_count": 1,
   "metadata": {},
   "outputs": [],
   "source": [
    "%matplotlib inline\n",
    "from matplotlib import pyplot as plt\n",
    "import numpy as np\n",
    "\n",
    "from Timer import Timer\n",
    "import IPythonMagic\n",
    "\n",
    "import pycuda.compiler as cuda_compiler\n",
    "import pycuda.driver as cuda_driver\n",
    "\n",
    "from pycuda.gpuarray import GPUArray\n",
    "\n",
    "import pytest\n",
    "from ipytest import clean_tests,run_pytest"
   ]
  },
  {
   "cell_type": "code",
   "execution_count": 2,
   "metadata": {},
   "outputs": [
    {
     "name": "stderr",
     "output_type": "stream",
     "text": [
      "Python version 3.6.6 (default, Sep 12 2018, 18:26:19) \n",
      "[GCC 8.0.1 20180414 (experimental) [trunk revision 259383]]\n",
      "Registering context in user workspace\n",
      "Creating context\n",
      "PyCUDA version 2018.1.1\n",
      "CUDA version (9, 1, 0)\n",
      "Driver version 10000\n",
      "Using 'Tesla K80' GPU\n",
      " => compute capability: (3, 7)\n",
      " => memory: 9912 / 11441 MB available\n",
      "Created context handle <42248944>\n",
      "Using CUDA cache dir /home/ubuntu/jupyter_notebooks/Orlando_Giuseppe/MilanoGPU2018/notebooks/cuda_cache\n"
     ]
    }
   ],
   "source": [
    "%setup_logging\n",
    "%cuda_context_handler context"
   ]
  },
  {
   "cell_type": "raw",
   "metadata": {},
   "source": [
    "class HeatEquation1D(object):\n",
    "    \"\"\"\n",
    "    This class aprroximates the solution of heat equation using an explicit finite difference scheme\n",
    "    \"\"\"\n",
    "    \n",
    "    def __init__(self,u0,kappa,dx,dt):\n",
    "        self.u0 = u0.copy()\n",
    "        self.u1 = np.empty_like(self.u0)\n",
    "        self.kappa = kappa\n",
    "        self.dx = dx\n",
    "        self.dt = dt\n",
    "        # nx is the number of internal nodes\n",
    "        self.nx = self.u0.shape[0] - 2\n",
    "    \n",
    "    def step(self):\n",
    "        for i in range(1,self.nx+1):\n",
    "            self.u1[i] = self.u0[i] + self.kappa*self.dt/self.dx**2*(self.u0[i-1] - 2.0*self.u0[i] + self.u0[i+1])\n",
    "        #Neumann bc (we transport the same value of first cell so we impose null flux)\n",
    "        self.u1[0] = self.u1[1]\n",
    "        self.u1[self.nx+1] = self.u1[self.nx]\n",
    "        \n",
    "        #Swap u1,u0\n",
    "        #After that u0 is the most recent\n",
    "        self.u0,self.u1 = self.u1,self.u0\n",
    "    \n",
    "    def download(self):\n",
    "        return self.u1.copy()"
   ]
  },
  {
   "cell_type": "code",
   "execution_count": 15,
   "metadata": {},
   "outputs": [],
   "source": [
    "class HeatEquation1DGPU(object):\n",
    "    \"\"\"\n",
    "    This class aprroximates the solution of heat equation using an explicit finite difference scheme on the GPU\n",
    "    \"\"\"\n",
    "    \n",
    "    # Empty constructor\n",
    "    def __init__(self):\n",
    "        pass\n",
    "    \n",
    "    def createKernel(self):\n",
    "        src = \"\"\"\n",
    "        __global__ void heatEquation(float*u1,const float*u0,float kappa,float dx,float dt,int nx) {\n",
    "            // Skip the first node\n",
    "            int i = blockIdx.x*blockDim.x + threadIdx.x + 1;\n",
    "            \n",
    "            if(i >=1 && i <= nx) {\n",
    "                u1[i] = u0[i] + kappa*dt/(dx*dx)*(u0[i-1] -2.0f*u0[i] + u0[i+1]);\n",
    "            }\n",
    "            \n",
    "            if(i==1) {\n",
    "                u1[0] = u0[i] + kappa*dt/(dx*dx)*(u0[i-1] -2.0f*u0[i] + u0[i+1]);\n",
    "            }\n",
    "            \n",
    "            if(i==nx) {\n",
    "                u1[nx+1] = u0[i] + kappa*dt/(dx*dx)*(u0[i-1] -2.0f*u0[i] + u0[i+1]);\n",
    "            }\n",
    "        }\n",
    "        \n",
    "        // This is a device function which we can call form the Kernel\n",
    "        __device__ int computePi() {\n",
    "            return 355.0f/113.0f;\n",
    "        }\n",
    "        \"\"\"\n",
    "        \n",
    "        self.module = cuda_compiler.SourceModule(src,options=['--use_fast_math'])\n",
    "        self.kernel = self.module.get_function(\"heatEquation\")\n",
    "        self.kernel.prepare(\"PPfffi\")\n",
    "    \n",
    "    def initialize(self,u0,kappa,dx,dt):\n",
    "        self.kappa = np.float32(kappa)\n",
    "        self.dx = np.float32(dx)\n",
    "        self.dt = np.float32(dt)\n",
    "        # nx is the number of internal nodes\n",
    "        self.nx = np.int32(u0.shape[0] - 2)\n",
    "         \n",
    "        # Allocate data on GPU and Upload\n",
    "        assert u0.dtype == np.float32, \"u0 must be float\"\n",
    "        self.u0_g = GPUArray(u0.shape,u0.dtype)\n",
    "        self.u1_g = GPUArray(u0.shape,u0.dtype)\n",
    "        self.u0_g.set(u0)\n",
    "        \n",
    "        #Create the kernel\n",
    "        self.createKernel()\n",
    "        \n",
    "        num_threads = 128\n",
    "        self.block_size = (num_threads,1,1)\n",
    "        self.grid_size = (int(np.ceil(self.u0_g.shape[0]/num_threads)),1,1)\n",
    "        self.stream = cuda_driver.Stream()\n",
    "        print(\"Grid size is: \",self.grid_size)\n",
    "        print(\"Block size is: \",self.block_size)\n",
    "        print(\"U0 shape is: \",self.u0_g.shape)\n",
    "    \n",
    "    def step(self):\n",
    "        \n",
    "        #for i in range(1,self.nx+1):\n",
    "        #    self.u1[i] = self.u0[i] + self.kappa*self.dt/self.dx**2*(self.u0[i-1] - 2.0*self.u0[i] + self.u0[i+1])\n",
    "        ##Neumann bc (we transport the same value of first cell so we impose null flux)\n",
    "        self.kernel.prepared_async_call(self.grid_size,self.block_size,self.stream,\\\n",
    "                                        self.u1_g.gpudata,self.u0_g.gpudata,self.kappa,self.dx,self.dt,self.nx)\n",
    "        #We wiil fix bc in the kerneò\n",
    "        #self.u1[0] = self.u1[1]\n",
    "        #self.u1[self.nx+1] = self.u1[self.nx]       \n",
    "              \n",
    "        #Swap u1,u0\n",
    "        #After that u0 is the most recent (it moves pointer)\n",
    "        self.u0_g,self.u1_g = self.u1_g,self.u0_g\n",
    "    \n",
    "    def download(self):\n",
    "        u0 = np.empty(self.u0_g.shape,self.u0_g.dtype)\n",
    "        self.u0_g.get(u0)\n",
    "        return u0"
   ]
  },
  {
   "cell_type": "code",
   "execution_count": 16,
   "metadata": {},
   "outputs": [
    {
     "name": "stdout",
     "output_type": "stream",
     "text": [
      "Grid size is:  (1, 1, 1)\n",
      "Block size is:  (128, 1, 1)\n",
      "U0 shape is:  (5,)\n",
      "[0.2 0.2 0.6 0.2 0.2]\n"
     ]
    }
   ],
   "source": [
    "u0 = np.zeros(5,dtype = np.float32)\n",
    "u0[2] = 1.0\n",
    "kappa = 1.0\n",
    "dx = 1.0\n",
    "dt = 0.4*dx**2/(2.0*kappa)\n",
    "\n",
    "gpu_simulator = HeatEquation1DGPU()\n",
    "gpu_simulator.initialize(u0,kappa,dx,dt)\n",
    "gpu_simulator.step()\n",
    "result = gpu_simulator.download()\n",
    "print(result)\n",
    "\n",
    "\n",
    "#for i in range(10):\n",
    "#    gpusimulator.step()\n",
    "\n",
    "#    result = simulator.download()\n",
    "#print(result) \n",
    "#fig = plt.figure()\n",
    "#plt.plot(result)"
   ]
  },
  {
   "cell_type": "code",
   "execution_count": 24,
   "metadata": {},
   "outputs": [
    {
     "name": "stdout",
     "output_type": "stream",
     "text": [
      "<pycuda._driver.Function object at 0x7fc0e14b43b0>\n"
     ]
    }
   ],
   "source": [
    "print(gpu_simulator.kernel)"
   ]
  },
  {
   "cell_type": "code",
   "execution_count": 14,
   "metadata": {},
   "outputs": [
    {
     "data": {
      "text/plain": [
       "[<matplotlib.lines.Line2D at 0x7fc0e144a940>]"
      ]
     },
     "execution_count": 14,
     "metadata": {},
     "output_type": "execute_result"
    },
    {
     "data": {
      "image/png": "[encoded data removed]",
      "text/plain": [
       "<matplotlib.figure.Figure at 0x7fc0e2d37080>"
      ]
     },
     "metadata": {
      "needs_background": "light"
     },
     "output_type": "display_data"
    }
   ],
   "source": [
    "u0 = np.zeros(17)\n",
    "u0[10] = 1.0\n",
    "kappa = 1.0\n",
    "dx = 1.0\n",
    "dt = 0.4*dx**2/(2.0*kappa)\n",
    "\n",
    "simulator = HeatEquation1D(u0,kappa,dx,dt)\n",
    "for i in range(10):\n",
    "    simulator.step()\n",
    "\n",
    "    result = simulator.download()\n",
    "#print(result) \n",
    "fig = plt.figure()\n",
    "plt.plot(result)"
   ]
  },
  {
   "cell_type": "code",
   "execution_count": 7,
   "metadata": {},
   "outputs": [
    {
     "name": "stdout",
     "output_type": "stream",
     "text": [
      "============================= test session starts ==============================\n",
      "platform linux -- Python 3.6.6, pytest-3.8.2, py-1.6.0, pluggy-0.7.1 -- /usr/bin/python3\n",
      "cachedir: .pytest_cache\n",
      "rootdir: /home/ubuntu/jupyter_notebooks/Orlando_Giuseppe/MilanoGPU2018/notebooks, inifile:\n",
      "collecting ... collected 1 item\n",
      "\n",
      "HeatEquation1D.py::test_HeatEquation1D <- <ipython-input-7-191723c4ed6f> PASSED [100%]\n",
      "\n",
      "=========================== 1 passed in 0.03 seconds ===========================\n"
     ]
    },
    {
     "data": {
      "text/plain": [
       "0"
      ]
     },
     "execution_count": 7,
     "metadata": {},
     "output_type": "execute_result"
    }
   ],
   "source": [
    "clean_tests()\n",
    "\n",
    "def test_HeatEquation1D():\n",
    "    u0 = np.zeros(15)\n",
    "    kappa = 1.0\n",
    "    dx = 1.0\n",
    "    dt = 0.4*dx**2/(2.0*kappa)\n",
    "\n",
    "    simulator = HeatEquation1D(u0,kappa,dx,dt)\n",
    "    \n",
    "    assert np.all(u0 == simulator.u0)\n",
    "    assert kappa == simulator.kappa\n",
    "    assert dx == simulator.dx\n",
    "    assert dt == simulator.dt\n",
    "    assert simulator.u0.shape == simulator.u1.shape\n",
    "    \n",
    "    u0 = np.zeros(7)\n",
    "    u0[3] = 1.0\n",
    "    kappa = 1.0\n",
    "    dx = 1.0\n",
    "    dt = 0.4*dx**2/(2.0*kappa)\n",
    "\n",
    "    simulator = HeatEquation1D(u0,kappa,dx,dt)\n",
    "    for i in range(10):    \n",
    "        simulator.step()\n",
    "        result = simulator.download()\n",
    "        print(result)\n",
    "        # assert np.sum(result) == pytest.approx(1.0) With bc obviously it fails  \n",
    "        assert np.sum(result[1:-1]) == pytest.approx(1.0)  \n",
    "        assert result[0] == result[1]\n",
    "        assert result[-1] == result[-2]               \n",
    "    \n",
    "run_pytest(filename='HeatEquation1D.ipynb',pytest_options=['-vvv'])"
   ]
  },
  {
   "cell_type": "code",
   "execution_count": null,
   "metadata": {},
   "outputs": [],
   "source": []
  }
 ],
 "metadata": {
  "kernelspec": {
   "display_name": "Python 3",
   "language": "python",
   "name": "python3"
  },
  "language_info": {
   "codemirror_mode": {
    "name": "ipython",
    "version": 3
   },
   "file_extension": ".py",
   "mimetype": "text/x-python",
   "name": "python",
   "nbconvert_exporter": "python",
   "pygments_lexer": "ipython3",
   "version": "3.6.6"
  }
 },
 "nbformat": 4,
 "nbformat_minor": 2
}
