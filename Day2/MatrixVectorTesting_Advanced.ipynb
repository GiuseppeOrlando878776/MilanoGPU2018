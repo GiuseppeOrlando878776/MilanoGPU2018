{
 "cells": [
  {
   "cell_type": "markdown",
   "metadata": {},
   "source": [
    "# License\n",
    "\n",
    "    Jupyter notebook for accessing CUDA\n",
    "    Copyright (C) 2018 Andre.Brodtkorb@ifi.uio.no, changed in October by André Brodtkorb\n",
    "\n",
    "    This program is free software: you can redistribute it and/or modify\n",
    "    it under the terms of the GNU General Public License as published by\n",
    "    the Free Software Foundation, either version 3 of the License, or\n",
    "    (at your option) any later version.\n",
    "\n",
    "    This program is distributed in the hope that it will be useful,\n",
    "    but WITHOUT ANY WARRANTY; without even the implied warranty of\n",
    "    MERCHANTABILITY or FITNESS FOR A PARTICULAR PURPOSE.  See the\n",
    "    GNU General Public License for more details.\n",
    "\n",
    "    You should have received a copy of the GNU General Public License\n",
    "    along with this program.  If not, see <http://www.gnu.org/licenses/>."
   ]
  },
  {
   "cell_type": "code",
   "execution_count": 2,
   "metadata": {},
   "outputs": [],
   "source": [
    "#Lets have matplotlib \"inline\"\n",
    "%matplotlib inline\n",
    "\n",
    "#Import packages we need\n",
    "import numpy as np\n",
    "import pycuda.compiler as cuda_compiler\n",
    "from pycuda.gpuarray import GPUArray\n",
    "import pycuda.driver as cuda_driver\n",
    "\n",
    "from matplotlib import pyplot as plt\n",
    "\n",
    "import IPythonMagic\n",
    "\n",
    "from Timer import Timer\n",
    "\n",
    "import logging"
   ]
  },
  {
   "cell_type": "code",
   "execution_count": 3,
   "metadata": {},
   "outputs": [],
   "source": [
    "import pytest\n",
    "from ipytest import run_pytest,clean_tests"
   ]
  },
  {
   "cell_type": "code",
   "execution_count": 4,
   "metadata": {},
   "outputs": [
    {
     "name": "stderr",
     "output_type": "stream",
     "text": [
      "Python version 3.6.6 (default, Sep 12 2018, 18:26:19) \n",
      "[GCC 8.0.1 20180414 (experimental) [trunk revision 259383]]\n",
      "Registering context in user workspace\n",
      "Creating context\n",
      "PyCUDA version 2018.1.1\n",
      "CUDA version (9, 1, 0)\n",
      "Driver version 10000\n",
      "Using 'Tesla K80' GPU\n",
      " => compute capability: (3, 7)\n",
      " => memory: 10793 / 11441 MB available\n",
      "Created context handle <56517920>\n",
      "Using CUDA cache dir /home/ubuntu/jupyter_notebooks/Orlando_Giuseppe/MilanoGPU2018/Day2/cuda_cache\n"
     ]
    }
   ],
   "source": [
    "%setup_logging\n",
    "%cuda_context_handler context"
   ]
  },
  {
   "cell_type": "code",
   "execution_count": 11,
   "metadata": {},
   "outputs": [
    {
     "data": {
      "text/plain": [
       "<pycuda._driver.Function at 0x7f2a70051f10>"
      ]
     },
     "execution_count": 11,
     "metadata": {},
     "output_type": "execute_result"
    }
   ],
   "source": [
    "cuda_kernel = \"\"\"\n",
    "__global__ void matrixVectorKernel(float* c, float* A, float* b, int a_rows, int a_cols) {\n",
    "    unsigned int j = blockIdx.x*blockDim.x + threadIdx.x;\n",
    "    \n",
    "    //Out of bounds check\n",
    "    if (j > a_rows) {\n",
    "        return;\n",
    "    }\n",
    "    \n",
    "    //Compute inner product of row of A with column of B\n",
    "    float sum = 0.0f;\n",
    "    for (int i=0; i<a_cols; ++i) {\n",
    "        unsigned int k = j*a_cols + i;\n",
    "        sum += A[k] * b[i];\n",
    "    }\n",
    "    \n",
    "    //Write to global memory\n",
    "    c[j] = sum;\n",
    "}\n",
    "\"\"\"\n",
    "module = cuda_compiler.SourceModule(cuda_kernel)\n",
    "kernel = module.get_function(\"matrixVectorKernel\");\n",
    "\n",
    "#PPPii\n",
    "kernel.prepare(\"PPPii\")"
   ]
  },
  {
   "cell_type": "code",
   "execution_count": 19,
   "metadata": {},
   "outputs": [],
   "source": [
    "def gpuMatrixVector(a,b):\n",
    "    # Create a stream of operations on the GPU\n",
    "    stream = cuda_driver.Stream()\n",
    "    context.synchronize()\n",
    "    #Upload data to the device\n",
    "    #NOTE: We need to make sure that a=(a_rows, a_columns)\n",
    "    # and that b=(a_colmuns, 1) (column vector)\n",
    "    # and that c=(a_rows, 1)\n",
    "    with Timer(\"Data allocation\") as t:\n",
    "        a_g = GPUArray(a.shape, np.float32)\n",
    "        b_g = GPUArray(b.shape, np.float32)\n",
    "        c_g = GPUArray(a.shape[0], np.float32)\n",
    "        #context.synchronize() # We do asynchronization\n",
    "    with Timer(\"A upload\") as t:\n",
    "        #a_g.set(a) We do asynchronization transfer\n",
    "        #context.synchronize()\n",
    "        a_g.set_async(a,stream=stream)\n",
    "    with Timer(\"B upload\") as t:\n",
    "        #b_g.set(b)\n",
    "        b_g.set_async(b,stream=stream)\n",
    "        #context.synchronize()\n",
    "    \n",
    "    \n",
    "    #NOTE: We need to change this so that the grid*block is x = 1, y = number of rows in A\n",
    "    #block_size = (1, 1, 1) #These need to be [x, y, z]\n",
    "    #block_size = (2,1,1)\n",
    "    #block_size = (32,1,1) # worst\n",
    "    block_size = (256,1,1)\n",
    "    grid_size = (int(np.ceil(a.shape[0] / block_size[0])), 1, 1)\n",
    "\n",
    "    #print(\"Block size is \" + str(block_size))\n",
    "    #print(\"Grid size is \" + str(grid_size))\n",
    "    \n",
    "    #Execute program on device\n",
    "    with Timer(\"Kernel execution\") as t:\n",
    "        for i in range(1000):\n",
    "            kernel.prepared_async_call(grid_size,block_size,stream,\\\n",
    "                                       c_g.gpudata,a_g.gpudata,b_g.gpudata,np.int32(a.shape[0]),np.int32(a.shape[1]))\n",
    "        #context.synchronize()\n",
    "\n",
    "    #Copy data from device to host\n",
    "    with Timer(\"Allocate s\") as t:\n",
    "        c = np.empty((a.shape[0],1),dtype = np.float32)\n",
    "    with Timer(\"Donwload\") as t:\n",
    "        c_g.get(c)\n",
    "        #context.synchronize()\n",
    "    \n",
    "    #Return our computed matrix-vector product\n",
    "    return c"
   ]
  },
  {
   "cell_type": "code",
   "execution_count": 20,
   "metadata": {},
   "outputs": [
    {
     "name": "stdout",
     "output_type": "stream",
     "text": [
      "Nx = 8000\n"
     ]
    },
    {
     "name": "stderr",
     "output_type": "stream",
     "text": [
      "Create test data: 67.912817 ms\n",
      "Data allocation: 0.502348 ms\n",
      "A upload: 2.271414 ms\n",
      "B upload: 0.141144 ms\n",
      "Kernel execution: 11.921406 ms\n",
      "Allocate s: 0.010967 ms\n",
      "/home/ubuntu/.local/lib/python3.6/site-packages/ipykernel_launcher.py:45: DeprecationWarning: get() between arrays of different shape is deprecated and will be removed in PyCUDA 2017.x\n",
      "Donwload: 1414.299488 ms\n",
      "Run whole function: 1435.683250 ms\n"
     ]
    },
    {
     "data": {
      "text/plain": [
       "'fig = plt.figure()\\nplt.subplot(1,3,1)\\nplt.imshow(a)\\nplt.subplot(1,3,2)\\nplt.imshow(b)\\nplt.subplot(1,3,3)\\nplt.imshow(c)\\nfig.show()'"
      ]
     },
     "execution_count": 20,
     "metadata": {},
     "output_type": "execute_result"
    }
   ],
   "source": [
    "test_size = (2048,2048)\n",
    "print(\"Nx = \"+str(nx[i]),flush=True)\n",
    "#Create test input / output data\n",
    "with Timer(\"Create test data\") as t:\n",
    "    a = np.random.random(test_size).astype(np.float32)\n",
    "    b = np.random.random((test_size[1], 1)).astype(np.float32)\n",
    "with Timer(\"Run whole function\") as t:\n",
    "    c = gpuMatrixVector(a,b)\n",
    "\"\"\"fig = plt.figure()\n",
    "plt.subplot(1,3,1)\n",
    "plt.imshow(a)\n",
    "plt.subplot(1,3,2)\n",
    "plt.imshow(b)\n",
    "plt.subplot(1,3,3)\n",
    "plt.imshow(c)\n",
    "fig.show()\"\"\""
   ]
  },
  {
   "cell_type": "code",
   "execution_count": 16,
   "metadata": {},
   "outputs": [
    {
     "data": {
      "text/plain": [
       "[<matplotlib.lines.Line2D at 0x7f2a57d9be48>]"
      ]
     },
     "execution_count": 16,
     "metadata": {},
     "output_type": "execute_result"
    },
    {
     "data": {
      "image/png": "[encoded data removed]",
      "text/plain": [
       "<matplotlib.figure.Figure at 0x7f2a57fcf240>"
      ]
     },
     "metadata": {
      "needs_background": "light"
     },
     "output_type": "display_data"
    }
   ],
   "source": [
    "plt.figure()\n",
    "plt.plot(nx*ny,times)"
   ]
  },
  {
   "cell_type": "code",
   "execution_count": 10,
   "metadata": {},
   "outputs": [
    {
     "name": "stdout",
     "output_type": "stream",
     "text": [
      "Sad = 0.000000000000000000000000000000\n",
      "Per element error: 0.0\n"
     ]
    }
   ],
   "source": [
    "#Compute reference using Numpy\n",
    "c_ref = np.dot(a, b)\n",
    "\n",
    "#Sum of absolute differences\n",
    "sad = np.sum(np.abs(c - c_ref))\n",
    "    \n",
    "#Print result\n",
    "# print(\"C   = \", c)\n",
    "# print(\"Ref = \", c_ref)\n",
    "\n",
    "print(\"Sad = %.30f\" % sad)\n",
    "print(\"Per element error: \" + str(sad / test_size[1]))"
   ]
  },
  {
   "cell_type": "code",
   "execution_count": 15,
   "metadata": {},
   "outputs": [
    {
     "name": "stdout",
     "output_type": "stream",
     "text": [
      "============================= test session starts ==============================\n",
      "platform linux -- Python 3.6.6, pytest-3.8.2, py-1.6.0, pluggy-0.7.1 -- /usr/bin/python3\n",
      "cachedir: .pytest_cache\n",
      "rootdir: /home/ubuntu/jupyter_notebooks/Orlando_Giuseppe/MilanoGPU2018/notebooks, inifile:\n",
      "collecting ... collected 1 item\n",
      "\n",
      "MatrixVectorTesting.py::test_gpuMatrixVector <- <ipython-input-15-c8a159699d4e> PASSED [100%]\n",
      "\n",
      "=============================== warnings summary ===============================\n",
      "/home/ubuntu/.local/lib/python3.6/site-packages/ipykernel_launcher.py:25: DeprecationWarning: get() between arrays of different shape is deprecated and will be removed in PyCUDA 2017.x\n",
      "/home/ubuntu/.local/lib/python3.6/site-packages/ipykernel_launcher.py:25: DeprecationWarning: get() between arrays of different shape is deprecated and will be removed in PyCUDA 2017.x\n",
      "/home/ubuntu/.local/lib/python3.6/site-packages/ipykernel_launcher.py:25: DeprecationWarning: get() between arrays of different shape is deprecated and will be removed in PyCUDA 2017.x\n",
      "\n",
      "-- Docs: https://docs.pytest.org/en/latest/warnings.html\n",
      "===================== 1 passed, 3 warnings in 0.03 seconds =====================\n"
     ]
    },
    {
     "data": {
      "text/plain": [
       "0"
      ]
     },
     "execution_count": 15,
     "metadata": {},
     "output_type": "execute_result"
    }
   ],
   "source": [
    "clean_tests()\n",
    "\n",
    "def test_gpuMatrixVector():\n",
    "    #Let us test a matrix of size 1x1\n",
    "    a = np.ones((1,1),dtype = np.float32)\n",
    "    b = 2*np.ones((1,1),dtype = np.float32)\n",
    "    c = gpuMatrixVector(a,b)\n",
    "    assert c == pytest.approx(2.0)\n",
    "    \n",
    "    #Test that inner porduct works\n",
    "    a = np.ones((1,2),dtype = np.float32)\n",
    "    b = 2*np.ones((2,1),dtype = np.float32)\n",
    "    c = gpuMatrixVector(a,b)\n",
    "    assert c == pytest.approx(4.0)\n",
    "    \n",
    "    #Test a general matrix\n",
    "    test_size = (4, 3)\n",
    "\n",
    "    #Create test input / output data\n",
    "    a = np.random.random(test_size).astype(np.float32)\n",
    "    b = np.random.random((test_size[1], 1)).astype(np.float32)\n",
    "    c = gpuMatrixVector(a,b)\n",
    "    assert c == pytest.approx(np.dot(a,b))\n",
    "    assert c == pytest.approx(a.dot(b),rel=1e-3)\n",
    "    \n",
    "run_pytest(filename='MatrixVectorTesting.ipynb',pytest_options=['-vvv'])\n"
   ]
  },
  {
   "cell_type": "code",
   "execution_count": 20,
   "metadata": {},
   "outputs": [
    {
     "data": {
      "text/plain": [
       "<matplotlib.image.AxesImage at 0x7f660d925898>"
      ]
     },
     "execution_count": 20,
     "metadata": {},
     "output_type": "execute_result"
    },
    {
     "data": {
      "image/png": "[encoded data removed]",
      "text/plain": [
       "<matplotlib.figure.Figure at 0x7f660dbe9390>"
      ]
     },
     "metadata": {
      "needs_background": "light"
     },
     "output_type": "display_data"
    }
   ],
   "source": [
    "fig = plt.figure(figsize=(12,8))\n",
    "plt.subplot(1,2,1)\n",
    "plt.imshow(c)\n",
    "plt.subplot(1,2,2)\n",
    "plt.imshow(c_ref)"
   ]
  },
  {
   "cell_type": "code",
   "execution_count": null,
   "metadata": {},
   "outputs": [],
   "source": []
  }
 ],
 "metadata": {
  "kernelspec": {
   "display_name": "Python 3",
   "language": "python",
   "name": "python3"
  },
  "language_info": {
   "codemirror_mode": {
    "name": "ipython",
    "version": 3
   },
   "file_extension": ".py",
   "mimetype": "text/x-python",
   "name": "python",
   "nbconvert_exporter": "python",
   "pygments_lexer": "ipython3",
   "version": "3.6.6"
  }
 },
 "nbformat": 4,
 "nbformat_minor": 2
}
